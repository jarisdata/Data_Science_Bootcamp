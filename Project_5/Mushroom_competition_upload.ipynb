{
 "cells": [
  {
   "cell_type": "markdown",
   "id": "49964bef-c3f4-42a0-9eed-27db288ab79c",
   "metadata": {},
   "source": [
    "# Mushroom Competition"
   ]
  },
  {
   "cell_type": "code",
   "execution_count": 237,
   "id": "f49edb21-d864-42ba-879f-2c8de9301b2f",
   "metadata": {},
   "outputs": [],
   "source": [
    "#pip install sweetviz"
   ]
  },
  {
   "cell_type": "code",
   "execution_count": 238,
   "id": "ac7bd2c0-c5dc-4f00-8035-cc31418413ed",
   "metadata": {},
   "outputs": [],
   "source": [
    "#### Importing modules"
   ]
  },
  {
   "cell_type": "code",
   "execution_count": 239,
   "id": "eb6cf178-362b-4668-b7b8-41afabcc59bb",
   "metadata": {},
   "outputs": [],
   "source": [
    "# data wrangling\n",
    "import pandas as pd\n",
    "import numpy as np\n",
    "\n",
    "\n",
    "#visualization\n",
    "import sweetviz as sv\n",
    "\n",
    "import seaborn as sns\n",
    "import matplotlib.pyplot as plt\n",
    "#from math import pi\n",
    "\n",
    "from sklearn.metrics import confusion_matrix\n",
    "from sklearn.metrics import ConfusionMatrixDisplay\n",
    "\n",
    "#Machine Learning\n",
    "\n",
    "\n",
    "\n",
    "# Imputer\n",
    "from sklearn.impute import SimpleImputer\n",
    "from sklearn.preprocessing import OrdinalEncoder\n",
    "from sklearn.preprocessing import OneHotEncoder\n",
    "from sklearn.preprocessing import LabelBinarizer\n",
    "\n",
    "# Pipeline\n",
    "\n",
    "from sklearn.pipeline import make_pipeline\n",
    "from sklearn.pipeline import Pipeline #Note that make_pipeline is just a slightly more concise function than Pipeline, as it does not require you to name each step, but their behaviour is equivalent.\n",
    "from sklearn import set_config\n",
    "\n",
    "\n",
    "#Supervised Machine Learning\n",
    "\n",
    "\n",
    "from sklearn.model_selection import train_test_split\n",
    "from sklearn.model_selection import GridSearchCV, StratifiedKFold\n",
    "from sklearn.metrics import roc_curve, precision_recall_curve, auc, make_scorer, recall_score, accuracy_score, precision_score, confusion_matrix\n",
    "\n",
    "\n",
    "\n",
    "#Classifier\n",
    "from sklearn.ensemble import RandomForestClassifier\n",
    "\n",
    "\n",
    "\n",
    "#Feature selection\n",
    "from sklearn.feature_selection import SelectKBest\n",
    "from sklearn.decomposition import PCA\n",
    "\n",
    "#Metrics\n",
    "\n",
    "from sklearn.metrics import accuracy_score\n"
   ]
  },
  {
   "cell_type": "markdown",
   "id": "a8eeca47-8236-4873-95ae-a3c281872589",
   "metadata": {},
   "source": [
    "# 1. Preparing the data"
   ]
  },
  {
   "cell_type": "code",
   "execution_count": 240,
   "id": "bd6aa25e-d073-454e-8479-177c07063eee",
   "metadata": {},
   "outputs": [],
   "source": [
    "path = '/path_to/your_files/train.csv'\n",
    "data = pd.read_csv(path).set_index('Id')"
   ]
  },
  {
   "cell_type": "code",
   "execution_count": 241,
   "id": "dd6a7f37-58fc-4abf-93df-89ee73ee3710",
   "metadata": {},
   "outputs": [],
   "source": [
    "# Exploring the data\n",
    "\n",
    "#data.hist()\n",
    "#data.describe()\n",
    "#data.info()\n",
    "#data"
   ]
  },
  {
   "cell_type": "code",
   "execution_count": 242,
   "id": "9b74f4d6-7484-458f-bc65-2baacd7087fb",
   "metadata": {},
   "outputs": [],
   "source": [
    "data['bruises'] = data['bruises'].map({True: 'True', False: 'False'})"
   ]
  },
  {
   "cell_type": "code",
   "execution_count": 243,
   "id": "841bba04-0393-4a87-99bc-43d6478d00cb",
   "metadata": {},
   "outputs": [],
   "source": [
    "#### test and train\n",
    "y = data.pop('poisonous')\n",
    "X = data.copy()\n",
    "X_train, X_test, y_train, y_test = train_test_split(X,y, train_size = 0.8, random_state=175)"
   ]
  },
  {
   "cell_type": "markdown",
   "id": "d8eebf6e-70d1-47f9-ae2b-144da8a784ce",
   "metadata": {},
   "source": [
    "# 2. Pipeline"
   ]
  },
  {
   "cell_type": "code",
   "execution_count": 244,
   "id": "6ec07e27-b74a-4eec-bd5a-f82d870f5607",
   "metadata": {},
   "outputs": [],
   "source": [
    "preprocessor = make_pipeline(OneHotEncoder(handle_unknown='ignore'))#, sparse_output=True))\n",
    "\n",
    "feature_selection = SelectKBest()\n",
    "\n",
    "full_pipeline = make_pipeline(preprocessor,\n",
    "                             feature_selection,\n",
    "                             RandomForestClassifier(criterion='gini'))#.set_output(transform='pandas')"
   ]
  },
  {
   "cell_type": "code",
   "execution_count": 254,
   "id": "b7468912-4a23-4873-b0f5-816cd27012aa",
   "metadata": {
    "tags": []
   },
   "outputs": [
    {
     "name": "stdout",
     "output_type": "stream",
     "text": [
      "Fitting 5 folds for each of 96 candidates, totalling 480 fits\n"
     ]
    },
    {
     "data": {
      "text/plain": [
       "{'randomforestclassifier__max_depth': 15,\n",
       " 'randomforestclassifier__min_samples_leaf': 2,\n",
       " 'randomforestclassifier__min_samples_split': 3,\n",
       " 'randomforestclassifier__n_estimators': 56,\n",
       " 'selectkbest__k': 36}"
      ]
     },
     "execution_count": 254,
     "metadata": {},
     "output_type": "execute_result"
    }
   ],
   "source": [
    "#GridSearch\n",
    "\n",
    "param_grid = {\n",
    "     'selectkbest__k':range(35,37),\n",
    "    # 'randomforestclassifier__criterion': ['gini','entropy','log_loss'], \n",
    "      'randomforestclassifier__max_depth': range(14,18),\n",
    "     'randomforestclassifier__n_estimators': range(54,58),\n",
    "     'randomforestclassifier__min_samples_split': range(3,6), \n",
    "      'randomforestclassifier__min_samples_leaf': range(2,3), \n",
    " }\n",
    "    \n",
    "\n",
    "rf_search = GridSearchCV(full_pipeline,\n",
    "                         param_grid=param_grid,\n",
    "                        cv=5,\n",
    "                         n_jobs=-1,\n",
    "                        scoring='roc_auc',#'recall',#'roc_auc',\n",
    "                         refit='roc_auc',#'recall', \n",
    "                        verbose=1) \n",
    "\n",
    "rf_search.fit(X_train,y_train)\n",
    "rf_search.best_params_"
   ]
  },
  {
   "cell_type": "code",
   "execution_count": 255,
   "id": "8dd8d200-d6d8-444e-a4aa-73c3b30bc322",
   "metadata": {
    "tags": []
   },
   "outputs": [],
   "source": [
    "y_pred = rf_search.best_estimator_.predict(X_test)\n"
   ]
  },
  {
   "cell_type": "code",
   "execution_count": 256,
   "id": "8802d27f-10e0-440b-b594-c9c0e2bb6958",
   "metadata": {},
   "outputs": [
    {
     "data": {
      "text/plain": [
       "(array([[590,  47],\n",
       "        [ 15, 648]]),\n",
       " 0.9523076923076923,\n",
       " 0.9773755656108597,\n",
       " 0.9262166405023547)"
      ]
     },
     "execution_count": 256,
     "metadata": {},
     "output_type": "execute_result"
    }
   ],
   "source": [
    "# Scores for the grid search results\n",
    "\n",
    "accuracy = accuracy_score(y_test,y_pred)\n",
    "cm = confusion_matrix(y_test,y_pred)\n",
    "rc = cm[1][1]/(cm[1][1]+cm[1][0]) # Recall = Sensitivity = True Positive Rate = True Positive / (True Positive/False Negative)\n",
    "sp = cm[0][0]/(cm[0][0]+cm[0][1]) # Specificity = True Negative Rate = True Negative / (True Negative/False Positive)\n",
    "\n",
    "cm, accuracy, rc, sp"
   ]
  },
  {
   "cell_type": "markdown",
   "id": "830de335-1899-4cd0-a1bc-6c602eed8cfb",
   "metadata": {},
   "source": [
    "# 3. Adjusting the decision threshold "
   ]
  },
  {
   "cell_type": "raw",
   "id": "0acf37d5-8bce-4462-a806-adf5a2e19bca",
   "metadata": {},
   "source": [
    "The decision threshold is adjusted to minimize false negatives (i.e. undetected poisonous mushrooms). Here the precision-recall curve is used. Another solution would be to use the ROC curves."
   ]
  },
  {
   "cell_type": "code",
   "execution_count": 257,
   "id": "4dd68028-b426-48c2-a08c-ee3a0434f10c",
   "metadata": {},
   "outputs": [],
   "source": [
    "#Create an array of the class probabilites\n",
    "rf_proba = rf_search.best_estimator_.predict_proba(X_test)[:, 1] # selects only the probabilities for poisonous"
   ]
  },
  {
   "cell_type": "code",
   "execution_count": null,
   "id": "8551c814-0b15-40c3-a9d6-ed35e9f1505d",
   "metadata": {
    "tags": []
   },
   "outputs": [],
   "source": [
    "# Adjusts the y-probablities of rf_proba to 0,1 based on a given probability threshold t\n",
    "def adjusted_classes(rf_proba, t):\n",
    "    return [1 if y >= t else 0 for y in y_scores]\n",
    "adjusted_classes(rf_proba,0.2)"
   ]
  },
  {
   "cell_type": "code",
   "execution_count": 259,
   "id": "52b6f25b-2e88-4068-bc01-691e2f4e5da3",
   "metadata": {
    "tags": []
   },
   "outputs": [
    {
     "data": {
      "image/png": "[encoded data removed]",
      "text/plain": [
       "<Figure size 640x480 with 2 Axes>"
      ]
     },
     "metadata": {},
     "output_type": "display_data"
    }
   ],
   "source": [
    "#Generating the precision-recall curve for the classifier\n",
    "p, r, thresholds = precision_recall_curve(y_test, y_scores)\n",
    "\n",
    "def precision_recall_threshold(p, r, thresholds, t=0.5):\n",
    "       \n",
    "    # generate new class predictions based on the adjusted_classes\n",
    "    # function above and view the resulting confusion matrix.\n",
    "    y_pred_adj = adjusted_classes(rf_proba, t)\n",
    "    \n",
    "    cf_matrix = confusion_matrix(y_test, y_pred_adj)\n",
    "\n",
    "    ax = sns.heatmap(cf_matrix, annot=True, cmap='Blues', fmt='g')\n",
    "\n",
    "    ax.set_title('Confusion Matrix for mushrooms\\n\\n');\n",
    "    ax.set_xlabel('\\nPredicted Values')\n",
    "    ax.set_ylabel('Actual Values ');\n",
    "\n",
    "    ## Ticket labels - List must be in alphabetical order\n",
    "    ax.xaxis.set_ticklabels(['Not poisonous','Poisonous'])\n",
    "    ax.yaxis.set_ticklabels(['Not poisonous','Poisonous'])\n",
    "\n",
    "    ## Display the visualization of the Confusion Matrix.\n",
    "    plt.show()\n",
    "    return y_pred_adj\n",
    "    \n",
    "y_pred_adj= precision_recall_threshold(p, r, thresholds, t=0.20)\n"
   ]
  },
  {
   "cell_type": "code",
   "execution_count": 260,
   "id": "744cb3c0-152f-481a-bae4-ef69fb973409",
   "metadata": {},
   "outputs": [
    {
     "data": {
      "text/plain": [
       "(array([[536, 101],\n",
       "        [  0, 663]]),\n",
       " 0.9223076923076923,\n",
       " 1.0,\n",
       " 0.8414442700156985)"
      ]
     },
     "execution_count": 260,
     "metadata": {},
     "output_type": "execute_result"
    }
   ],
   "source": [
    "\n",
    "\n",
    "accuracy_t = accuracy_score(y_test,y_pred_adj)\n",
    "cm_t = confusion_matrix(y_test,y_pred_adj)\n",
    "rc_t = cm_t[1][1]/(cm_t[1][1]+cm_t[1][0]) # Recall = Sensitivity = True Positive Rate = True Positive / (True Positive/False Negative)\n",
    "sp_t = cm_t[0][0]/(cm_t[0][0]+cm_t[0][1]) # Specificity = True Negative Rate = True Negative / (True Negative/False Positive)\n",
    "\n",
    "cm_t, accuracy_t, rc_t, sp_t"
   ]
  },
  {
   "cell_type": "markdown",
   "id": "9e2b89a0-1553-4123-8a21-e7781fc3af4c",
   "metadata": {},
   "source": [
    "# 4. Scores"
   ]
  },
  {
   "cell_type": "code",
   "execution_count": 261,
   "id": "be24af6f-0bb7-4928-a329-9351ab169135",
   "metadata": {},
   "outputs": [
    {
     "data": {
      "text/html": [
       "<div>\n",
       "<style scoped>\n",
       "    .dataframe tbody tr th:only-of-type {\n",
       "        vertical-align: middle;\n",
       "    }\n",
       "\n",
       "    .dataframe tbody tr th {\n",
       "        vertical-align: top;\n",
       "    }\n",
       "\n",
       "    .dataframe thead th {\n",
       "        text-align: right;\n",
       "    }\n",
       "</style>\n",
       "<table border=\"1\" class=\"dataframe\">\n",
       "  <thead>\n",
       "    <tr style=\"text-align: right;\">\n",
       "      <th></th>\n",
       "      <th>accuracy</th>\n",
       "      <th>recall (sensitivity)</th>\n",
       "      <th>specificity</th>\n",
       "    </tr>\n",
       "  </thead>\n",
       "  <tbody>\n",
       "    <tr>\n",
       "      <th>radom_forest_grid</th>\n",
       "      <td>0.952308</td>\n",
       "      <td>0.977376</td>\n",
       "      <td>0.926217</td>\n",
       "    </tr>\n",
       "    <tr>\n",
       "      <th>random_forest_threshold</th>\n",
       "      <td>0.922308</td>\n",
       "      <td>1.000000</td>\n",
       "      <td>0.841444</td>\n",
       "    </tr>\n",
       "  </tbody>\n",
       "</table>\n",
       "</div>"
      ],
      "text/plain": [
       "                         accuracy  recall (sensitivity)  specificity\n",
       "radom_forest_grid        0.952308              0.977376     0.926217\n",
       "random_forest_threshold  0.922308              1.000000     0.841444"
      ]
     },
     "execution_count": 261,
     "metadata": {},
     "output_type": "execute_result"
    }
   ],
   "source": [
    "scores = pd.DataFrame({'accuracy': [accuracy, accuracy_t], \n",
    "                     'recall (sensitivity)': [rc, rc_t],\n",
    "                     'specificity': [sp, sp_t], \n",
    "                      }\n",
    "                     , index=['radom_forest_grid','random_forest_threshold'])\n",
    "scores"
   ]
  },
  {
   "cell_type": "markdown",
   "id": "a9b53cc6-54a0-4acc-8b20-b6d701461bac",
   "metadata": {},
   "source": [
    "# 5. Importing test data"
   ]
  },
  {
   "cell_type": "code",
   "execution_count": 262,
   "id": "5e821c74-9a3f-40da-aba7-f2bc13dad098",
   "metadata": {},
   "outputs": [],
   "source": [
    "path2 = '/path_to/your_files/test.csv'\n",
    "data_t = pd.read_csv(path2)\n",
    "data_t['bruises'] = data_t['bruises'].map({True: 'True', False: 'False'})\n",
    "\n",
    "id_column = data_t.pop('Id')\n",
    "\n",
    "# Performing the threshold adjusted prediction on the test set\n",
    "y_final_pred = rf_search.best_estimator_.predict_proba(data_t) [:, 1]\n",
    "\n",
    "\n",
    "# Adjusting the probabilities to 0,1\n",
    "def final_adjusted_classes(y_final_pred, t):\n",
    "    return [1 if y >= t else 0 for y in y_final_pred]\n",
    "y_final_pred=pd.Series(final_adjusted_classes(y_final_pred,0.12))\n",
    "\n",
    "# Saving the results\n",
    "\n",
    "results = pd.DataFrame({'Id': id_column, 'poisonous': y_final_pred}).set_index('Id')\n",
    "results.to_csv('/path_to/your_files/results.csv')"
   ]
  }
 ],
 "metadata": {
  "kernelspec": {
   "display_name": "Python 3 (ipykernel)",
   "language": "python",
   "name": "python3"
  },
  "language_info": {
   "codemirror_mode": {
    "name": "ipython",
    "version": 3
   },
   "file_extension": ".py",
   "mimetype": "text/x-python",
   "name": "python",
   "nbconvert_exporter": "python",
   "pygments_lexer": "ipython3",
   "version": "3.9.16"
  }
 },
 "nbformat": 4,
 "nbformat_minor": 5
}
